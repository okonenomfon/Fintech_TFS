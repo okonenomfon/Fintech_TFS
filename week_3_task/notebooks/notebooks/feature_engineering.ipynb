{
 "cells": [
  {
   "cell_type": "markdown",
   "metadata": {},
   "source": [
    "Explore Data"
   ]
  },
  {
   "cell_type": "code",
   "execution_count": 27,
   "metadata": {},
   "outputs": [
    {
     "data": {
      "text/html": [
       "<div>\n",
       "<style scoped>\n",
       "    .dataframe tbody tr th:only-of-type {\n",
       "        vertical-align: middle;\n",
       "    }\n",
       "\n",
       "    .dataframe tbody tr th {\n",
       "        vertical-align: top;\n",
       "    }\n",
       "\n",
       "    .dataframe thead th {\n",
       "        text-align: right;\n",
       "    }\n",
       "</style>\n",
       "<table border=\"1\" class=\"dataframe\">\n",
       "  <thead>\n",
       "    <tr style=\"text-align: right;\">\n",
       "      <th></th>\n",
       "      <th>UserId</th>\n",
       "      <th>TransactionId</th>\n",
       "      <th>TransactionTime</th>\n",
       "      <th>ItemCode</th>\n",
       "      <th>ItemDescription</th>\n",
       "      <th>NumberOfItemsPurchased</th>\n",
       "      <th>CostPerItem</th>\n",
       "      <th>Country</th>\n",
       "    </tr>\n",
       "  </thead>\n",
       "  <tbody>\n",
       "    <tr>\n",
       "      <th>0</th>\n",
       "      <td>278166</td>\n",
       "      <td>6355745</td>\n",
       "      <td>Sat Feb 02 12:50:00 IST 2019</td>\n",
       "      <td>465549</td>\n",
       "      <td>FAMILY ALBUM WHITE PICTURE FRAME</td>\n",
       "      <td>6</td>\n",
       "      <td>11.73</td>\n",
       "      <td>United Kingdom</td>\n",
       "    </tr>\n",
       "    <tr>\n",
       "      <th>1</th>\n",
       "      <td>337701</td>\n",
       "      <td>6283376</td>\n",
       "      <td>Wed Dec 26 09:06:00 IST 2018</td>\n",
       "      <td>482370</td>\n",
       "      <td>LONDON BUS COFFEE MUG</td>\n",
       "      <td>3</td>\n",
       "      <td>3.52</td>\n",
       "      <td>United Kingdom</td>\n",
       "    </tr>\n",
       "    <tr>\n",
       "      <th>2</th>\n",
       "      <td>267099</td>\n",
       "      <td>6385599</td>\n",
       "      <td>Fri Feb 15 09:45:00 IST 2019</td>\n",
       "      <td>490728</td>\n",
       "      <td>SET 12 COLOUR PENCILS DOLLY GIRL</td>\n",
       "      <td>72</td>\n",
       "      <td>0.90</td>\n",
       "      <td>France</td>\n",
       "    </tr>\n",
       "    <tr>\n",
       "      <th>3</th>\n",
       "      <td>380478</td>\n",
       "      <td>6044973</td>\n",
       "      <td>Fri Jun 22 07:14:00 IST 2018</td>\n",
       "      <td>459186</td>\n",
       "      <td>UNION JACK FLAG LUGGAGE TAG</td>\n",
       "      <td>3</td>\n",
       "      <td>1.73</td>\n",
       "      <td>United Kingdom</td>\n",
       "    </tr>\n",
       "    <tr>\n",
       "      <th>4</th>\n",
       "      <td>-1</td>\n",
       "      <td>6143225</td>\n",
       "      <td>Mon Sep 10 11:58:00 IST 2018</td>\n",
       "      <td>1733592</td>\n",
       "      <td>WASHROOM METAL SIGN</td>\n",
       "      <td>3</td>\n",
       "      <td>3.40</td>\n",
       "      <td>United Kingdom</td>\n",
       "    </tr>\n",
       "    <tr>\n",
       "      <th>5</th>\n",
       "      <td>285957</td>\n",
       "      <td>6307136</td>\n",
       "      <td>Fri Jan 11 09:50:00 IST 2019</td>\n",
       "      <td>1787247</td>\n",
       "      <td>CUT GLASS T-LIGHT HOLDER OCTAGON</td>\n",
       "      <td>12</td>\n",
       "      <td>3.52</td>\n",
       "      <td>United Kingdom</td>\n",
       "    </tr>\n",
       "    <tr>\n",
       "      <th>6</th>\n",
       "      <td>345954</td>\n",
       "      <td>6162981</td>\n",
       "      <td>Fri Sep 28 10:51:00 IST 2018</td>\n",
       "      <td>471576</td>\n",
       "      <td>NATURAL SLATE CHALKBOARD LARGE</td>\n",
       "      <td>9</td>\n",
       "      <td>6.84</td>\n",
       "      <td>United Kingdom</td>\n",
       "    </tr>\n",
       "    <tr>\n",
       "      <th>7</th>\n",
       "      <td>-1</td>\n",
       "      <td>6143225</td>\n",
       "      <td>Mon Sep 10 11:58:00 IST 2018</td>\n",
       "      <td>447867</td>\n",
       "      <td>SKULLS WRITING SET</td>\n",
       "      <td>120</td>\n",
       "      <td>1.15</td>\n",
       "      <td>United Kingdom</td>\n",
       "    </tr>\n",
       "    <tr>\n",
       "      <th>8</th>\n",
       "      <td>339822</td>\n",
       "      <td>6255403</td>\n",
       "      <td>Mon Dec 10 09:23:00 IST 2018</td>\n",
       "      <td>1783845</td>\n",
       "      <td>MULTI COLOUR SILVER T-LIGHT HOLDER</td>\n",
       "      <td>36</td>\n",
       "      <td>1.18</td>\n",
       "      <td>United Kingdom</td>\n",
       "    </tr>\n",
       "    <tr>\n",
       "      <th>9</th>\n",
       "      <td>328440</td>\n",
       "      <td>6387425</td>\n",
       "      <td>Sat Feb 16 10:35:00 IST 2019</td>\n",
       "      <td>494802</td>\n",
       "      <td>SET OF 6 RIBBONS PERFECTLY PRETTY</td>\n",
       "      <td>36</td>\n",
       "      <td>3.99</td>\n",
       "      <td>United Kingdom</td>\n",
       "    </tr>\n",
       "  </tbody>\n",
       "</table>\n",
       "</div>"
      ],
      "text/plain": [
       "   UserId  TransactionId               TransactionTime  ItemCode  \\\n",
       "0  278166        6355745  Sat Feb 02 12:50:00 IST 2019    465549   \n",
       "1  337701        6283376  Wed Dec 26 09:06:00 IST 2018    482370   \n",
       "2  267099        6385599  Fri Feb 15 09:45:00 IST 2019    490728   \n",
       "3  380478        6044973  Fri Jun 22 07:14:00 IST 2018    459186   \n",
       "4      -1        6143225  Mon Sep 10 11:58:00 IST 2018   1733592   \n",
       "5  285957        6307136  Fri Jan 11 09:50:00 IST 2019   1787247   \n",
       "6  345954        6162981  Fri Sep 28 10:51:00 IST 2018    471576   \n",
       "7      -1        6143225  Mon Sep 10 11:58:00 IST 2018    447867   \n",
       "8  339822        6255403  Mon Dec 10 09:23:00 IST 2018   1783845   \n",
       "9  328440        6387425  Sat Feb 16 10:35:00 IST 2019    494802   \n",
       "\n",
       "                       ItemDescription  NumberOfItemsPurchased  CostPerItem  \\\n",
       "0     FAMILY ALBUM WHITE PICTURE FRAME                       6        11.73   \n",
       "1                LONDON BUS COFFEE MUG                       3         3.52   \n",
       "2    SET 12 COLOUR PENCILS DOLLY GIRL                       72         0.90   \n",
       "3          UNION JACK FLAG LUGGAGE TAG                       3         1.73   \n",
       "4                  WASHROOM METAL SIGN                       3         3.40   \n",
       "5     CUT GLASS T-LIGHT HOLDER OCTAGON                      12         3.52   \n",
       "6      NATURAL SLATE CHALKBOARD LARGE                        9         6.84   \n",
       "7                  SKULLS WRITING SET                      120         1.15   \n",
       "8   MULTI COLOUR SILVER T-LIGHT HOLDER                      36         1.18   \n",
       "9  SET OF 6 RIBBONS PERFECTLY PRETTY                        36         3.99   \n",
       "\n",
       "          Country  \n",
       "0  United Kingdom  \n",
       "1  United Kingdom  \n",
       "2          France  \n",
       "3  United Kingdom  \n",
       "4  United Kingdom  \n",
       "5  United Kingdom  \n",
       "6  United Kingdom  \n",
       "7  United Kingdom  \n",
       "8  United Kingdom  \n",
       "9  United Kingdom  "
      ]
     },
     "execution_count": 27,
     "metadata": {},
     "output_type": "execute_result"
    }
   ],
   "source": [
    "import pandas as pd\n",
    "\n",
    "df = pd.read_csv(r\"C:\\Users\\USER\\Fintech_TFS\\week_3_task\\notebooks\\data\\transaction_data.csv\")\n",
    "\n",
    "df.head(10)"
   ]
  },
  {
   "cell_type": "markdown",
   "metadata": {},
   "source": [
    "Check info and missing data"
   ]
  },
  {
   "cell_type": "code",
   "execution_count": 28,
   "metadata": {},
   "outputs": [
    {
     "name": "stdout",
     "output_type": "stream",
     "text": [
      "<class 'pandas.core.frame.DataFrame'>\n",
      "RangeIndex: 1083818 entries, 0 to 1083817\n",
      "Data columns (total 8 columns):\n",
      " #   Column                  Non-Null Count    Dtype  \n",
      "---  ------                  --------------    -----  \n",
      " 0   UserId                  1083818 non-null  int64  \n",
      " 1   TransactionId           1083818 non-null  int64  \n",
      " 2   TransactionTime         1083818 non-null  object \n",
      " 3   ItemCode                1083818 non-null  int64  \n",
      " 4   ItemDescription         1080910 non-null  object \n",
      " 5   NumberOfItemsPurchased  1083818 non-null  int64  \n",
      " 6   CostPerItem             1083818 non-null  float64\n",
      " 7   Country                 1083818 non-null  object \n",
      "dtypes: float64(1), int64(4), object(3)\n",
      "memory usage: 66.2+ MB\n",
      "None\n",
      "UserId                       0\n",
      "TransactionId                0\n",
      "TransactionTime              0\n",
      "ItemCode                     0\n",
      "ItemDescription           2908\n",
      "NumberOfItemsPurchased       0\n",
      "CostPerItem                  0\n",
      "Country                      0\n",
      "dtype: int64\n"
     ]
    }
   ],
   "source": [
    "print(df.info())\n",
    "\n",
    "print(df.isnull().sum())"
   ]
  },
  {
   "cell_type": "markdown",
   "metadata": {},
   "source": [
    "Feature Engineering"
   ]
  },
  {
   "cell_type": "code",
   "execution_count": 29,
   "metadata": {},
   "outputs": [
    {
     "name": "stdout",
     "output_type": "stream",
     "text": [
      "Index(['UserId', 'TransactionId', 'TransactionTime', 'ItemCode',\n",
      "       'ItemDescription', 'NumberOfItemsPurchased', 'CostPerItem', 'Country'],\n",
      "      dtype='object')\n"
     ]
    }
   ],
   "source": [
    "print(df.columns)"
   ]
  },
  {
   "cell_type": "code",
   "execution_count": 30,
   "metadata": {},
   "outputs": [
    {
     "name": "stdout",
     "output_type": "stream",
     "text": [
      "   UserId  TransactionId                     timestamp  ItemCode  \\\n",
      "0  278166        6355745  Sat Feb 02 12:50:00 IST 2019    465549   \n",
      "1  337701        6283376  Wed Dec 26 09:06:00 IST 2018    482370   \n",
      "2  267099        6385599  Fri Feb 15 09:45:00 IST 2019    490728   \n",
      "3  380478        6044973  Fri Jun 22 07:14:00 IST 2018    459186   \n",
      "4      -1        6143225  Mon Sep 10 11:58:00 IST 2018   1733592   \n",
      "\n",
      "                     ItemDescription  NumberOfItemsPurchased  amount  \\\n",
      "0   FAMILY ALBUM WHITE PICTURE FRAME                       6   11.73   \n",
      "1              LONDON BUS COFFEE MUG                       3    3.52   \n",
      "2  SET 12 COLOUR PENCILS DOLLY GIRL                       72    0.90   \n",
      "3        UNION JACK FLAG LUGGAGE TAG                       3    1.73   \n",
      "4                WASHROOM METAL SIGN                       3    3.40   \n",
      "\n",
      "          Country  \n",
      "0  United Kingdom  \n",
      "1  United Kingdom  \n",
      "2          France  \n",
      "3  United Kingdom  \n",
      "4  United Kingdom  \n"
     ]
    }
   ],
   "source": [
    "df.rename(columns={'TransactionTime': 'timestamp'}, inplace=True)\n",
    "df.rename(columns={'CostPerItem': 'amount'}, inplace=True)\n",
    "\n",
    "print(df.head(5))"
   ]
  },
  {
   "cell_type": "code",
   "execution_count": 31,
   "metadata": {},
   "outputs": [
    {
     "name": "stderr",
     "output_type": "stream",
     "text": [
      "C:\\Users\\USER\\AppData\\Local\\Temp\\ipykernel_21468\\2228289122.py:3: FutureWarning: Parsed string \"Sat Feb 02 12:50:00 IST 2019\" included an un-recognized timezone \"IST\". Dropping unrecognized timezones is deprecated; in a future version this will raise. Instead pass the string without the timezone, then use .tz_localize to convert to a recognized timezone.\n",
      "  df['timestamp'] = pd.to_datetime(df['timestamp'])\n",
      "C:\\Users\\USER\\AppData\\Roaming\\Python\\Python312\\site-packages\\pandas\\core\\arraylike.py:399: RuntimeWarning: invalid value encountered in log1p\n",
      "  result = getattr(ufunc, method)(*inputs, **kwargs)\n"
     ]
    },
    {
     "data": {
      "text/html": [
       "<div>\n",
       "<style scoped>\n",
       "    .dataframe tbody tr th:only-of-type {\n",
       "        vertical-align: middle;\n",
       "    }\n",
       "\n",
       "    .dataframe tbody tr th {\n",
       "        vertical-align: top;\n",
       "    }\n",
       "\n",
       "    .dataframe thead th {\n",
       "        text-align: right;\n",
       "    }\n",
       "</style>\n",
       "<table border=\"1\" class=\"dataframe\">\n",
       "  <thead>\n",
       "    <tr style=\"text-align: right;\">\n",
       "      <th></th>\n",
       "      <th>UserId</th>\n",
       "      <th>TransactionId</th>\n",
       "      <th>timestamp</th>\n",
       "      <th>ItemCode</th>\n",
       "      <th>ItemDescription</th>\n",
       "      <th>NumberOfItemsPurchased</th>\n",
       "      <th>amount</th>\n",
       "      <th>Country</th>\n",
       "      <th>hour</th>\n",
       "      <th>day_of_week</th>\n",
       "      <th>is_weekend</th>\n",
       "      <th>log_amount</th>\n",
       "      <th>customer_transaction_count</th>\n",
       "      <th>is_night</th>\n",
       "    </tr>\n",
       "  </thead>\n",
       "  <tbody>\n",
       "    <tr>\n",
       "      <th>0</th>\n",
       "      <td>278166</td>\n",
       "      <td>6355745</td>\n",
       "      <td>2019-02-02 12:50:00</td>\n",
       "      <td>465549</td>\n",
       "      <td>FAMILY ALBUM WHITE PICTURE FRAME</td>\n",
       "      <td>6</td>\n",
       "      <td>11.73</td>\n",
       "      <td>United Kingdom</td>\n",
       "      <td>12</td>\n",
       "      <td>5</td>\n",
       "      <td>1</td>\n",
       "      <td>2.543961</td>\n",
       "      <td>286</td>\n",
       "      <td>0</td>\n",
       "    </tr>\n",
       "    <tr>\n",
       "      <th>1</th>\n",
       "      <td>337701</td>\n",
       "      <td>6283376</td>\n",
       "      <td>2018-12-26 09:06:00</td>\n",
       "      <td>482370</td>\n",
       "      <td>LONDON BUS COFFEE MUG</td>\n",
       "      <td>3</td>\n",
       "      <td>3.52</td>\n",
       "      <td>United Kingdom</td>\n",
       "      <td>9</td>\n",
       "      <td>2</td>\n",
       "      <td>0</td>\n",
       "      <td>1.508512</td>\n",
       "      <td>454</td>\n",
       "      <td>0</td>\n",
       "    </tr>\n",
       "    <tr>\n",
       "      <th>2</th>\n",
       "      <td>267099</td>\n",
       "      <td>6385599</td>\n",
       "      <td>2019-02-15 09:45:00</td>\n",
       "      <td>490728</td>\n",
       "      <td>SET 12 COLOUR PENCILS DOLLY GIRL</td>\n",
       "      <td>72</td>\n",
       "      <td>0.90</td>\n",
       "      <td>France</td>\n",
       "      <td>9</td>\n",
       "      <td>4</td>\n",
       "      <td>0</td>\n",
       "      <td>0.641854</td>\n",
       "      <td>84</td>\n",
       "      <td>0</td>\n",
       "    </tr>\n",
       "    <tr>\n",
       "      <th>3</th>\n",
       "      <td>380478</td>\n",
       "      <td>6044973</td>\n",
       "      <td>2018-06-22 07:14:00</td>\n",
       "      <td>459186</td>\n",
       "      <td>UNION JACK FLAG LUGGAGE TAG</td>\n",
       "      <td>3</td>\n",
       "      <td>1.73</td>\n",
       "      <td>United Kingdom</td>\n",
       "      <td>7</td>\n",
       "      <td>4</td>\n",
       "      <td>0</td>\n",
       "      <td>1.004302</td>\n",
       "      <td>2568</td>\n",
       "      <td>0</td>\n",
       "    </tr>\n",
       "    <tr>\n",
       "      <th>4</th>\n",
       "      <td>-1</td>\n",
       "      <td>6143225</td>\n",
       "      <td>2018-09-10 11:58:00</td>\n",
       "      <td>1733592</td>\n",
       "      <td>WASHROOM METAL SIGN</td>\n",
       "      <td>3</td>\n",
       "      <td>3.40</td>\n",
       "      <td>United Kingdom</td>\n",
       "      <td>11</td>\n",
       "      <td>0</td>\n",
       "      <td>0</td>\n",
       "      <td>1.481605</td>\n",
       "      <td>270160</td>\n",
       "      <td>0</td>\n",
       "    </tr>\n",
       "  </tbody>\n",
       "</table>\n",
       "</div>"
      ],
      "text/plain": [
       "   UserId  TransactionId           timestamp  ItemCode  \\\n",
       "0  278166        6355745 2019-02-02 12:50:00    465549   \n",
       "1  337701        6283376 2018-12-26 09:06:00    482370   \n",
       "2  267099        6385599 2019-02-15 09:45:00    490728   \n",
       "3  380478        6044973 2018-06-22 07:14:00    459186   \n",
       "4      -1        6143225 2018-09-10 11:58:00   1733592   \n",
       "\n",
       "                     ItemDescription  NumberOfItemsPurchased  amount  \\\n",
       "0   FAMILY ALBUM WHITE PICTURE FRAME                       6   11.73   \n",
       "1              LONDON BUS COFFEE MUG                       3    3.52   \n",
       "2  SET 12 COLOUR PENCILS DOLLY GIRL                       72    0.90   \n",
       "3        UNION JACK FLAG LUGGAGE TAG                       3    1.73   \n",
       "4                WASHROOM METAL SIGN                       3    3.40   \n",
       "\n",
       "          Country  hour  day_of_week  is_weekend  log_amount  \\\n",
       "0  United Kingdom    12            5           1    2.543961   \n",
       "1  United Kingdom     9            2           0    1.508512   \n",
       "2          France     9            4           0    0.641854   \n",
       "3  United Kingdom     7            4           0    1.004302   \n",
       "4  United Kingdom    11            0           0    1.481605   \n",
       "\n",
       "   customer_transaction_count  is_night  \n",
       "0                         286         0  \n",
       "1                         454         0  \n",
       "2                          84         0  \n",
       "3                        2568         0  \n",
       "4                      270160         0  "
      ]
     },
     "execution_count": 31,
     "metadata": {},
     "output_type": "execute_result"
    }
   ],
   "source": [
    "import numpy as np\n",
    "\n",
    "df['timestamp'] = pd.to_datetime(df['timestamp'])\n",
    "\n",
    "df['hour'] = df['timestamp'].dt.hour\n",
    "df['day_of_week'] = df['timestamp'].dt.dayofweek\n",
    "df['is_weekend'] = df['day_of_week'].apply(lambda x: 1 if x >= 5 else 0)\n",
    "\n",
    "df['log_amount'] = np.log1p(df['amount']) #log transform ( neutralizes outliers)\n",
    "\n",
    "df['customer_transaction_count'] = df.groupby('UserId')['UserId'].transform('count') #transaction per user\n",
    "\n",
    "df['is_night'] = df['hour'].apply(lambda x: 1 if x < 6 or x > 22 else 0)\n",
    "\n",
    "df.head()\n"
   ]
  },
  {
   "cell_type": "code",
   "execution_count": 32,
   "metadata": {},
   "outputs": [
    {
     "name": "stdout",
     "output_type": "stream",
     "text": [
      "(1083818, 14)\n"
     ]
    }
   ],
   "source": [
    "print(df.shape)"
   ]
  },
  {
   "cell_type": "markdown",
   "metadata": {},
   "source": [
    "Risk Score"
   ]
  },
  {
   "cell_type": "code",
   "execution_count": 33,
   "metadata": {},
   "outputs": [
    {
     "data": {
      "text/html": [
       "<div>\n",
       "<style scoped>\n",
       "    .dataframe tbody tr th:only-of-type {\n",
       "        vertical-align: middle;\n",
       "    }\n",
       "\n",
       "    .dataframe tbody tr th {\n",
       "        vertical-align: top;\n",
       "    }\n",
       "\n",
       "    .dataframe thead th {\n",
       "        text-align: right;\n",
       "    }\n",
       "</style>\n",
       "<table border=\"1\" class=\"dataframe\">\n",
       "  <thead>\n",
       "    <tr style=\"text-align: right;\">\n",
       "      <th></th>\n",
       "      <th>TransactionId</th>\n",
       "      <th>amount</th>\n",
       "      <th>risk_score</th>\n",
       "    </tr>\n",
       "  </thead>\n",
       "  <tbody>\n",
       "    <tr>\n",
       "      <th>143293</th>\n",
       "      <td>5909541</td>\n",
       "      <td>3.52</td>\n",
       "      <td>3</td>\n",
       "    </tr>\n",
       "    <tr>\n",
       "      <th>1030711</th>\n",
       "      <td>6391253</td>\n",
       "      <td>22.95</td>\n",
       "      <td>3</td>\n",
       "    </tr>\n",
       "    <tr>\n",
       "      <th>992042</th>\n",
       "      <td>6154038</td>\n",
       "      <td>117.30</td>\n",
       "      <td>3</td>\n",
       "    </tr>\n",
       "    <tr>\n",
       "      <th>1072964</th>\n",
       "      <td>6157756</td>\n",
       "      <td>14.90</td>\n",
       "      <td>1</td>\n",
       "    </tr>\n",
       "    <tr>\n",
       "      <th>1009758</th>\n",
       "      <td>5984979</td>\n",
       "      <td>4.55</td>\n",
       "      <td>1</td>\n",
       "    </tr>\n",
       "    <tr>\n",
       "      <th>755586</th>\n",
       "      <td>5927647</td>\n",
       "      <td>5.81</td>\n",
       "      <td>1</td>\n",
       "    </tr>\n",
       "    <tr>\n",
       "      <th>206112</th>\n",
       "      <td>5940253</td>\n",
       "      <td>1.73</td>\n",
       "      <td>1</td>\n",
       "    </tr>\n",
       "    <tr>\n",
       "      <th>779460</th>\n",
       "      <td>5909640</td>\n",
       "      <td>1.77</td>\n",
       "      <td>1</td>\n",
       "    </tr>\n",
       "    <tr>\n",
       "      <th>1052105</th>\n",
       "      <td>6163960</td>\n",
       "      <td>2.88</td>\n",
       "      <td>1</td>\n",
       "    </tr>\n",
       "    <tr>\n",
       "      <th>412949</th>\n",
       "      <td>6339333</td>\n",
       "      <td>2.28</td>\n",
       "      <td>1</td>\n",
       "    </tr>\n",
       "  </tbody>\n",
       "</table>\n",
       "</div>"
      ],
      "text/plain": [
       "         TransactionId  amount  risk_score\n",
       "143293         5909541    3.52           3\n",
       "1030711        6391253   22.95           3\n",
       "992042         6154038  117.30           3\n",
       "1072964        6157756   14.90           1\n",
       "1009758        5984979    4.55           1\n",
       "755586         5927647    5.81           1\n",
       "206112         5940253    1.73           1\n",
       "779460         5909640    1.77           1\n",
       "1052105        6163960    2.88           1\n",
       "412949         6339333    2.28           1"
      ]
     },
     "execution_count": 33,
     "metadata": {},
     "output_type": "execute_result"
    }
   ],
   "source": [
    "df_sample = df.sample(n=25, random_state=42).copy()\n",
    "\n",
    "def risk_score(row, df_subset):\n",
    "    score = 0\n",
    "\n",
    "    if row['log_amount'] > np.percentile(df_subset['log_amount'], 90):\n",
    "        score += 3\n",
    "\n",
    "    if row['is_night'] == 1:\n",
    "        score += 2\n",
    "\n",
    "    if row['is_weekend'] == 1:\n",
    "        score += 1\n",
    "\n",
    "    if row['customer_transaction_count'] > np.percentile(df_subset['customer_transaction_count'], 90):\n",
    "        score += 4\n",
    "\n",
    "    return score\n",
    "\n",
    "df_sample['risk_score'] = df_sample.apply(lambda row: risk_score(row, df_sample), axis=1)\n",
    "\n",
    "df_sample[['TransactionId', 'amount', 'risk_score']].sort_values(by='risk_score', ascending=False).head(10)\n"
   ]
  },
  {
   "cell_type": "markdown",
   "metadata": {},
   "source": [
    "Risk Score Trend"
   ]
  },
  {
   "cell_type": "code",
   "execution_count": 34,
   "metadata": {},
   "outputs": [
    {
     "data": {
      "image/png": "[encoded data removed]",
      "text/plain": [
       "<Figure size 1000x500 with 1 Axes>"
      ]
     },
     "metadata": {},
     "output_type": "display_data"
    }
   ],
   "source": [
    "import matplotlib.pyplot as plt\n",
    "import seaborn as sns\n",
    "\n",
    "plt.figure(figsize=(10, 5))\n",
    "sns.histplot(df_sample['risk_score'], bins=10, kde=True)\n",
    "plt.title('Distribution of Risk Scores (Sample of 25)')\n",
    "plt.xlabel('Risk Score')\n",
    "plt.ylabel('Frequency')\n",
    "plt.show()\n"
   ]
  },
  {
   "cell_type": "markdown",
   "metadata": {},
   "source": [
    "High Risk transaction (/hour)"
   ]
  },
  {
   "cell_type": "code",
   "execution_count": 35,
   "metadata": {},
   "outputs": [
    {
     "data": {
      "image/png": "[encoded data removed]",
      "text/plain": [
       "<Figure size 1200x600 with 1 Axes>"
      ]
     },
     "metadata": {},
     "output_type": "display_data"
    }
   ],
   "source": [
    "plt.figure(figsize=(12, 6))\n",
    "sns.boxplot(x=df_sample['hour'], y=df_sample['risk_score'])\n",
    "plt.title('Risk Scores by Hour of Day')\n",
    "plt.xlabel('Hour of Day')\n",
    "plt.ylabel('Risk Score')\n",
    "plt.show()"
   ]
  },
  {
   "cell_type": "markdown",
   "metadata": {},
   "source": [
    "High Risk Identification"
   ]
  },
  {
   "cell_type": "code",
   "execution_count": 36,
   "metadata": {},
   "outputs": [
    {
     "name": "stdout",
     "output_type": "stream",
     "text": [
      "Total high-risk transactions: 0\n"
     ]
    },
    {
     "data": {
      "text/html": [
       "<div>\n",
       "<style scoped>\n",
       "    .dataframe tbody tr th:only-of-type {\n",
       "        vertical-align: middle;\n",
       "    }\n",
       "\n",
       "    .dataframe tbody tr th {\n",
       "        vertical-align: top;\n",
       "    }\n",
       "\n",
       "    .dataframe thead th {\n",
       "        text-align: right;\n",
       "    }\n",
       "</style>\n",
       "<table border=\"1\" class=\"dataframe\">\n",
       "  <thead>\n",
       "    <tr style=\"text-align: right;\">\n",
       "      <th></th>\n",
       "      <th>TransactionId</th>\n",
       "      <th>amount</th>\n",
       "      <th>risk_score</th>\n",
       "    </tr>\n",
       "  </thead>\n",
       "  <tbody>\n",
       "  </tbody>\n",
       "</table>\n",
       "</div>"
      ],
      "text/plain": [
       "Empty DataFrame\n",
       "Columns: [TransactionId, amount, risk_score]\n",
       "Index: []"
      ]
     },
     "execution_count": 36,
     "metadata": {},
     "output_type": "execute_result"
    }
   ],
   "source": [
    "high_risk_threshold = 4\n",
    "high_risk_transactions = df_sample[df_sample['risk_score'] >= high_risk_threshold]\n",
    "\n",
    "print(f\"Total high-risk transactions: {len(high_risk_transactions)}\")\n",
    "high_risk_transactions[['TransactionId', 'amount', 'risk_score']]"
   ]
  }
 ],
 "metadata": {
  "kernelspec": {
   "display_name": "Python 3",
   "language": "python",
   "name": "python3"
  },
  "language_info": {
   "codemirror_mode": {
    "name": "ipython",
    "version": 3
   },
   "file_extension": ".py",
   "mimetype": "text/x-python",
   "name": "python",
   "nbconvert_exporter": "python",
   "pygments_lexer": "ipython3",
   "version": "3.12.4"
  }
 },
 "nbformat": 4,
 "nbformat_minor": 2
}
